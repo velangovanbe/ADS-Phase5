{
 "cells": [
  {
   "cell_type": "code",
   "execution_count": 1,
   "metadata": {},
   "outputs": [],
   "source": [
    "import pandas as pd          # These are the necessary libraries that need to be import\n",
    "import numpy as np\n",
    "import warnings\n",
    "import matplotlib.pyplot as mp\n",
    "import seaborn as sb\n",
    "warnings.filterwarnings('ignore')\n",
    "pd.set_option('display.max_columns',None)"
   ]
  },
  {
   "cell_type": "code",
   "execution_count": 2,
   "metadata": {},
   "outputs": [
    {
     "data": {
      "text/html": [
       "<div>\n",
       "<style scoped>\n",
       "    .dataframe tbody tr th:only-of-type {\n",
       "        vertical-align: middle;\n",
       "    }\n",
       "\n",
       "    .dataframe tbody tr th {\n",
       "        vertical-align: top;\n",
       "    }\n",
       "\n",
       "    .dataframe thead th {\n",
       "        text-align: right;\n",
       "    }\n",
       "</style>\n",
       "<table border=\"1\" class=\"dataframe\">\n",
       "  <thead>\n",
       "    <tr style=\"text-align: right;\">\n",
       "      <th></th>\n",
       "      <th>Gender</th>\n",
       "      <th>Age</th>\n",
       "      <th>Annual Income (k$)</th>\n",
       "      <th>Spending Score (1-100)</th>\n",
       "    </tr>\n",
       "    <tr>\n",
       "      <th>CustomerID</th>\n",
       "      <th></th>\n",
       "      <th></th>\n",
       "      <th></th>\n",
       "      <th></th>\n",
       "    </tr>\n",
       "  </thead>\n",
       "  <tbody>\n",
       "    <tr>\n",
       "      <th>1</th>\n",
       "      <td>Male</td>\n",
       "      <td>19</td>\n",
       "      <td>15</td>\n",
       "      <td>39</td>\n",
       "    </tr>\n",
       "    <tr>\n",
       "      <th>2</th>\n",
       "      <td>Male</td>\n",
       "      <td>21</td>\n",
       "      <td>15</td>\n",
       "      <td>81</td>\n",
       "    </tr>\n",
       "    <tr>\n",
       "      <th>3</th>\n",
       "      <td>Female</td>\n",
       "      <td>20</td>\n",
       "      <td>16</td>\n",
       "      <td>6</td>\n",
       "    </tr>\n",
       "    <tr>\n",
       "      <th>4</th>\n",
       "      <td>Female</td>\n",
       "      <td>23</td>\n",
       "      <td>16</td>\n",
       "      <td>77</td>\n",
       "    </tr>\n",
       "    <tr>\n",
       "      <th>5</th>\n",
       "      <td>Female</td>\n",
       "      <td>31</td>\n",
       "      <td>17</td>\n",
       "      <td>40</td>\n",
       "    </tr>\n",
       "  </tbody>\n",
       "</table>\n",
       "</div>"
      ],
      "text/plain": [
       "            Gender  Age  Annual Income (k$)  Spending Score (1-100)\n",
       "CustomerID                                                         \n",
       "1             Male   19                  15                      39\n",
       "2             Male   21                  15                      81\n",
       "3           Female   20                  16                       6\n",
       "4           Female   23                  16                      77\n",
       "5           Female   31                  17                      40"
      ]
     },
     "execution_count": 2,
     "metadata": {},
     "output_type": "execute_result"
    }
   ],
   "source": [
    "m=pd.read_csv(r'C:\\Users\\Lenovo\\Downloads\\Mall_Customers.csv',header=0,index_col=0)   # IT IS USED TO ACCESS THE FILE\n",
    "m.head()"
   ]
  },
  {
   "cell_type": "code",
   "execution_count": 3,
   "metadata": {},
   "outputs": [
    {
     "data": {
      "text/plain": [
       "(200, 4)"
      ]
     },
     "execution_count": 3,
     "metadata": {},
     "output_type": "execute_result"
    }
   ],
   "source": [
    "m.shape  # it tells about how many rows and columns are present"
   ]
  },
  {
   "cell_type": "code",
   "execution_count": 4,
   "metadata": {},
   "outputs": [
    {
     "name": "stdout",
     "output_type": "stream",
     "text": [
      "<class 'pandas.core.frame.DataFrame'>\n",
      "Int64Index: 200 entries, 1 to 200\n",
      "Data columns (total 4 columns):\n",
      " #   Column                  Non-Null Count  Dtype \n",
      "---  ------                  --------------  ----- \n",
      " 0   Gender                  200 non-null    object\n",
      " 1   Age                     200 non-null    int64 \n",
      " 2   Annual Income (k$)      200 non-null    int64 \n",
      " 3   Spending Score (1-100)  200 non-null    int64 \n",
      "dtypes: int64(3), object(1)\n",
      "memory usage: 7.8+ KB\n"
     ]
    }
   ],
   "source": [
    "m.info()  "
   ]
  },
  {
   "cell_type": "code",
   "execution_count": 5,
   "metadata": {},
   "outputs": [
    {
     "data": {
      "text/html": [
       "<div>\n",
       "<style scoped>\n",
       "    .dataframe tbody tr th:only-of-type {\n",
       "        vertical-align: middle;\n",
       "    }\n",
       "\n",
       "    .dataframe tbody tr th {\n",
       "        vertical-align: top;\n",
       "    }\n",
       "\n",
       "    .dataframe thead th {\n",
       "        text-align: right;\n",
       "    }\n",
       "</style>\n",
       "<table border=\"1\" class=\"dataframe\">\n",
       "  <thead>\n",
       "    <tr style=\"text-align: right;\">\n",
       "      <th></th>\n",
       "      <th>Gender</th>\n",
       "      <th>Age</th>\n",
       "      <th>Annual Income (k$)</th>\n",
       "      <th>Spending Score (1-100)</th>\n",
       "    </tr>\n",
       "  </thead>\n",
       "  <tbody>\n",
       "    <tr>\n",
       "      <th>count</th>\n",
       "      <td>200</td>\n",
       "      <td>200.000000</td>\n",
       "      <td>200.000000</td>\n",
       "      <td>200.000000</td>\n",
       "    </tr>\n",
       "    <tr>\n",
       "      <th>unique</th>\n",
       "      <td>2</td>\n",
       "      <td>NaN</td>\n",
       "      <td>NaN</td>\n",
       "      <td>NaN</td>\n",
       "    </tr>\n",
       "    <tr>\n",
       "      <th>top</th>\n",
       "      <td>Female</td>\n",
       "      <td>NaN</td>\n",
       "      <td>NaN</td>\n",
       "      <td>NaN</td>\n",
       "    </tr>\n",
       "    <tr>\n",
       "      <th>freq</th>\n",
       "      <td>112</td>\n",
       "      <td>NaN</td>\n",
       "      <td>NaN</td>\n",
       "      <td>NaN</td>\n",
       "    </tr>\n",
       "    <tr>\n",
       "      <th>mean</th>\n",
       "      <td>NaN</td>\n",
       "      <td>38.850000</td>\n",
       "      <td>60.560000</td>\n",
       "      <td>50.200000</td>\n",
       "    </tr>\n",
       "    <tr>\n",
       "      <th>std</th>\n",
       "      <td>NaN</td>\n",
       "      <td>13.969007</td>\n",
       "      <td>26.264721</td>\n",
       "      <td>25.823522</td>\n",
       "    </tr>\n",
       "    <tr>\n",
       "      <th>min</th>\n",
       "      <td>NaN</td>\n",
       "      <td>18.000000</td>\n",
       "      <td>15.000000</td>\n",
       "      <td>1.000000</td>\n",
       "    </tr>\n",
       "    <tr>\n",
       "      <th>25%</th>\n",
       "      <td>NaN</td>\n",
       "      <td>28.750000</td>\n",
       "      <td>41.500000</td>\n",
       "      <td>34.750000</td>\n",
       "    </tr>\n",
       "    <tr>\n",
       "      <th>50%</th>\n",
       "      <td>NaN</td>\n",
       "      <td>36.000000</td>\n",
       "      <td>61.500000</td>\n",
       "      <td>50.000000</td>\n",
       "    </tr>\n",
       "    <tr>\n",
       "      <th>75%</th>\n",
       "      <td>NaN</td>\n",
       "      <td>49.000000</td>\n",
       "      <td>78.000000</td>\n",
       "      <td>73.000000</td>\n",
       "    </tr>\n",
       "    <tr>\n",
       "      <th>max</th>\n",
       "      <td>NaN</td>\n",
       "      <td>70.000000</td>\n",
       "      <td>137.000000</td>\n",
       "      <td>99.000000</td>\n",
       "    </tr>\n",
       "  </tbody>\n",
       "</table>\n",
       "</div>"
      ],
      "text/plain": [
       "        Gender         Age  Annual Income (k$)  Spending Score (1-100)\n",
       "count      200  200.000000          200.000000              200.000000\n",
       "unique       2         NaN                 NaN                     NaN\n",
       "top     Female         NaN                 NaN                     NaN\n",
       "freq       112         NaN                 NaN                     NaN\n",
       "mean       NaN   38.850000           60.560000               50.200000\n",
       "std        NaN   13.969007           26.264721               25.823522\n",
       "min        NaN   18.000000           15.000000                1.000000\n",
       "25%        NaN   28.750000           41.500000               34.750000\n",
       "50%        NaN   36.000000           61.500000               50.000000\n",
       "75%        NaN   49.000000           78.000000               73.000000\n",
       "max        NaN   70.000000          137.000000               99.000000"
      ]
     },
     "execution_count": 5,
     "metadata": {},
     "output_type": "execute_result"
    }
   ],
   "source": [
    "m.describe(include='all')    # describe method tells about the statistics value of the data"
   ]
  },
  {
   "cell_type": "code",
   "execution_count": 6,
   "metadata": {},
   "outputs": [
    {
     "name": "stdout",
     "output_type": "stream",
     "text": [
      "{'Gender': array(['Male', 'Female'], dtype=object)}\n",
      "{'Age': array([19, 21, 20, 23, 31, 22, 35, 64, 30, 67, 58, 24, 37, 52, 25, 46, 54,\n",
      "       29, 45, 40, 60, 53, 18, 49, 42, 36, 65, 48, 50, 27, 33, 59, 47, 51,\n",
      "       69, 70, 63, 43, 68, 32, 26, 57, 38, 55, 34, 66, 39, 44, 28, 56, 41],\n",
      "      dtype=int64)}\n",
      "{'Annual Income (k$)': array([ 15,  16,  17,  18,  19,  20,  21,  23,  24,  25,  28,  29,  30,\n",
      "        33,  34,  37,  38,  39,  40,  42,  43,  44,  46,  47,  48,  49,\n",
      "        50,  54,  57,  58,  59,  60,  61,  62,  63,  64,  65,  67,  69,\n",
      "        70,  71,  72,  73,  74,  75,  76,  77,  78,  79,  81,  85,  86,\n",
      "        87,  88,  93,  97,  98,  99, 101, 103, 113, 120, 126, 137],\n",
      "      dtype=int64)}\n",
      "{'Spending Score (1-100)': array([39, 81,  6, 77, 40, 76, 94,  3, 72, 14, 99, 15, 13, 79, 35, 66, 29,\n",
      "       98, 73,  5, 82, 32, 61, 31, 87,  4, 92, 17, 26, 75, 36, 28, 65, 55,\n",
      "       47, 42, 52, 60, 54, 45, 41, 50, 46, 51, 56, 59, 48, 49, 53, 44, 57,\n",
      "       58, 43, 91, 95, 11,  9, 34, 71, 88,  7, 10, 93, 12, 97, 74, 22, 90,\n",
      "       20, 16, 89,  1, 78, 83, 27, 63, 86, 69, 24, 68, 85, 23,  8, 18],\n",
      "      dtype=int64)}\n"
     ]
    }
   ],
   "source": [
    "for i in m.columns:        # HERE WE ARE CHECKING THE UNIQUE VALUES PRESENT IN THE DATA\n",
    "    print({i:m[i].unique()}) "
   ]
  },
  {
   "cell_type": "code",
   "execution_count": 7,
   "metadata": {},
   "outputs": [
    {
     "data": {
      "text/plain": [
       "<matplotlib.axes._subplots.AxesSubplot at 0x2f50f963408>"
      ]
     },
     "execution_count": 7,
     "metadata": {},
     "output_type": "execute_result"
    },
    {
     "data": {
      "image/png": "[encoded data removed]",
      "text/plain": [
       "<Figure size 1080x720 with 1 Axes>"
      ]
     },
     "metadata": {},
     "output_type": "display_data"
    }
   ],
   "source": [
    "mp.figure(figsize=(15,10))    \n",
    "m['Gender'].value_counts().plot.pie(autopct='%1.2f%%',startangle=90)"
   ]
  },
  {
   "cell_type": "markdown",
   "metadata": {},
   "source": [
    "MOST OF THE DATA BELONGS TO FEMALE CUSTOMERS\n"
   ]
  },
  {
   "cell_type": "code",
   "execution_count": 8,
   "metadata": {},
   "outputs": [
    {
     "data": {
      "text/plain": [
       "<matplotlib.axes._subplots.AxesSubplot at 0x2f50d748048>"
      ]
     },
     "execution_count": 8,
     "metadata": {},
     "output_type": "execute_result"
    },
    {
     "data": {
      "image/png": "[encoded data removed]",
      "text/plain": [
       "<Figure size 576x432 with 1 Axes>"
      ]
     },
     "metadata": {
      "needs_background": "light"
     },
     "output_type": "display_data"
    }
   ],
   "source": [
    "mp.figure(figsize=(8, 6))\n",
    "sb.barplot(data=m,x='Gender',y='Annual Income (k$)')"
   ]
  },
  {
   "cell_type": "markdown",
   "metadata": {},
   "source": [
    "MALES HAVE SLIGHTLY HIGH ANNUAL INCOME COMPARED TO FEMALE"
   ]
  },
  {
   "cell_type": "code",
   "execution_count": 9,
   "metadata": {},
   "outputs": [
    {
     "data": {
      "text/plain": [
       "<matplotlib.axes._subplots.AxesSubplot at 0x2f50f9c7a88>"
      ]
     },
     "execution_count": 9,
     "metadata": {},
     "output_type": "execute_result"
    },
    {
     "data": {
      "image/png": "[encoded data removed]",
      "text/plain": [
       "<Figure size 576x432 with 1 Axes>"
      ]
     },
     "metadata": {
      "needs_background": "light"
     },
     "output_type": "display_data"
    }
   ],
   "source": [
    "mp.figure(figsize=(8, 6))\n",
    "sb.barplot(data=m,x='Gender',y='Spending Score (1-100)')"
   ]
  },
  {
   "cell_type": "markdown",
   "metadata": {},
   "source": [
    "FEMALE SPENDING SCORES ARE HIGH AS COMPARED TO MALE"
   ]
  },
  {
   "cell_type": "code",
   "execution_count": 10,
   "metadata": {},
   "outputs": [
    {
     "data": {
      "image/png": "[encoded data removed]",
      "text/plain": [
       "<Figure size 432x288 with 1 Axes>"
      ]
     },
     "metadata": {
      "needs_background": "light"
     },
     "output_type": "display_data"
    }
   ],
   "source": [
    "m.boxplot()  # Chechking boxplot for outliers detection \n",
    "mp.show()"
   ]
  },
  {
   "cell_type": "code",
   "execution_count": 11,
   "metadata": {},
   "outputs": [
    {
     "data": {
      "image/png": "[encoded data removed]",
      "text/plain": [
       "<Figure size 720x360 with 2 Axes>"
      ]
     },
     "metadata": {
      "needs_background": "light"
     },
     "output_type": "display_data"
    }
   ],
   "source": [
    "corr_df=m.corr()   # To check the correlation betn the variables\n",
    "mp.figure(figsize=(10,5))\n",
    "sb.heatmap(corr_df,vmax=1.0,vmin=-1.0,annot=True)\n",
    "mp.show()"
   ]
  },
  {
   "cell_type": "code",
   "execution_count": 12,
   "metadata": {},
   "outputs": [],
   "source": [
    "X=m.values[:,[2,3]] # WE ARE GOING TO BUILD CLUSTER ON THE BASIS OF ANNUAL INCOME AND SPENDING SCORE"
   ]
  },
  {
   "cell_type": "code",
   "execution_count": 13,
   "metadata": {},
   "outputs": [
    {
     "data": {
      "text/plain": [
       "array([[15, 39],\n",
       "       [15, 81],\n",
       "       [16, 6],\n",
       "       [16, 77],\n",
       "       [17, 40],\n",
       "       [17, 76],\n",
       "       [18, 6],\n",
       "       [18, 94],\n",
       "       [19, 3],\n",
       "       [19, 72],\n",
       "       [19, 14],\n",
       "       [19, 99],\n",
       "       [20, 15],\n",
       "       [20, 77],\n",
       "       [20, 13],\n",
       "       [20, 79],\n",
       "       [21, 35],\n",
       "       [21, 66],\n",
       "       [23, 29],\n",
       "       [23, 98],\n",
       "       [24, 35],\n",
       "       [24, 73],\n",
       "       [25, 5],\n",
       "       [25, 73],\n",
       "       [28, 14],\n",
       "       [28, 82],\n",
       "       [28, 32],\n",
       "       [28, 61],\n",
       "       [29, 31],\n",
       "       [29, 87],\n",
       "       [30, 4],\n",
       "       [30, 73],\n",
       "       [33, 4],\n",
       "       [33, 92],\n",
       "       [33, 14],\n",
       "       [33, 81],\n",
       "       [34, 17],\n",
       "       [34, 73],\n",
       "       [37, 26],\n",
       "       [37, 75],\n",
       "       [38, 35],\n",
       "       [38, 92],\n",
       "       [39, 36],\n",
       "       [39, 61],\n",
       "       [39, 28],\n",
       "       [39, 65],\n",
       "       [40, 55],\n",
       "       [40, 47],\n",
       "       [40, 42],\n",
       "       [40, 42],\n",
       "       [42, 52],\n",
       "       [42, 60],\n",
       "       [43, 54],\n",
       "       [43, 60],\n",
       "       [43, 45],\n",
       "       [43, 41],\n",
       "       [44, 50],\n",
       "       [44, 46],\n",
       "       [46, 51],\n",
       "       [46, 46],\n",
       "       [46, 56],\n",
       "       [46, 55],\n",
       "       [47, 52],\n",
       "       [47, 59],\n",
       "       [48, 51],\n",
       "       [48, 59],\n",
       "       [48, 50],\n",
       "       [48, 48],\n",
       "       [48, 59],\n",
       "       [48, 47],\n",
       "       [49, 55],\n",
       "       [49, 42],\n",
       "       [50, 49],\n",
       "       [50, 56],\n",
       "       [54, 47],\n",
       "       [54, 54],\n",
       "       [54, 53],\n",
       "       [54, 48],\n",
       "       [54, 52],\n",
       "       [54, 42],\n",
       "       [54, 51],\n",
       "       [54, 55],\n",
       "       [54, 41],\n",
       "       [54, 44],\n",
       "       [54, 57],\n",
       "       [54, 46],\n",
       "       [57, 58],\n",
       "       [57, 55],\n",
       "       [58, 60],\n",
       "       [58, 46],\n",
       "       [59, 55],\n",
       "       [59, 41],\n",
       "       [60, 49],\n",
       "       [60, 40],\n",
       "       [60, 42],\n",
       "       [60, 52],\n",
       "       [60, 47],\n",
       "       [60, 50],\n",
       "       [61, 42],\n",
       "       [61, 49],\n",
       "       [62, 41],\n",
       "       [62, 48],\n",
       "       [62, 59],\n",
       "       [62, 55],\n",
       "       [62, 56],\n",
       "       [62, 42],\n",
       "       [63, 50],\n",
       "       [63, 46],\n",
       "       [63, 43],\n",
       "       [63, 48],\n",
       "       [63, 52],\n",
       "       [63, 54],\n",
       "       [64, 42],\n",
       "       [64, 46],\n",
       "       [65, 48],\n",
       "       [65, 50],\n",
       "       [65, 43],\n",
       "       [65, 59],\n",
       "       [67, 43],\n",
       "       [67, 57],\n",
       "       [67, 56],\n",
       "       [67, 40],\n",
       "       [69, 58],\n",
       "       [69, 91],\n",
       "       [70, 29],\n",
       "       [70, 77],\n",
       "       [71, 35],\n",
       "       [71, 95],\n",
       "       [71, 11],\n",
       "       [71, 75],\n",
       "       [71, 9],\n",
       "       [71, 75],\n",
       "       [72, 34],\n",
       "       [72, 71],\n",
       "       [73, 5],\n",
       "       [73, 88],\n",
       "       [73, 7],\n",
       "       [73, 73],\n",
       "       [74, 10],\n",
       "       [74, 72],\n",
       "       [75, 5],\n",
       "       [75, 93],\n",
       "       [76, 40],\n",
       "       [76, 87],\n",
       "       [77, 12],\n",
       "       [77, 97],\n",
       "       [77, 36],\n",
       "       [77, 74],\n",
       "       [78, 22],\n",
       "       [78, 90],\n",
       "       [78, 17],\n",
       "       [78, 88],\n",
       "       [78, 20],\n",
       "       [78, 76],\n",
       "       [78, 16],\n",
       "       [78, 89],\n",
       "       [78, 1],\n",
       "       [78, 78],\n",
       "       [78, 1],\n",
       "       [78, 73],\n",
       "       [79, 35],\n",
       "       [79, 83],\n",
       "       [81, 5],\n",
       "       [81, 93],\n",
       "       [85, 26],\n",
       "       [85, 75],\n",
       "       [86, 20],\n",
       "       [86, 95],\n",
       "       [87, 27],\n",
       "       [87, 63],\n",
       "       [87, 13],\n",
       "       [87, 75],\n",
       "       [87, 10],\n",
       "       [87, 92],\n",
       "       [88, 13],\n",
       "       [88, 86],\n",
       "       [88, 15],\n",
       "       [88, 69],\n",
       "       [93, 14],\n",
       "       [93, 90],\n",
       "       [97, 32],\n",
       "       [97, 86],\n",
       "       [98, 15],\n",
       "       [98, 88],\n",
       "       [99, 39],\n",
       "       [99, 97],\n",
       "       [101, 24],\n",
       "       [101, 68],\n",
       "       [103, 17],\n",
       "       [103, 85],\n",
       "       [103, 23],\n",
       "       [103, 69],\n",
       "       [113, 8],\n",
       "       [113, 91],\n",
       "       [120, 16],\n",
       "       [120, 79],\n",
       "       [126, 28],\n",
       "       [126, 74],\n",
       "       [137, 18],\n",
       "       [137, 83]], dtype=object)"
      ]
     },
     "execution_count": 13,
     "metadata": {},
     "output_type": "execute_result"
    }
   ],
   "source": [
    "X"
   ]
  },
  {
   "cell_type": "markdown",
   "metadata": {},
   "source": [
    "# Elbow Curve Method"
   ]
  },
  {
   "cell_type": "code",
   "execution_count": 14,
   "metadata": {},
   "outputs": [
    {
     "data": {
      "image/png": "[encoded data removed]",
      "text/plain": [
       "<Figure size 432x288 with 1 Axes>"
      ]
     },
     "metadata": {
      "needs_background": "light"
     },
     "output_type": "display_data"
    }
   ],
   "source": [
    "# Using the elbow method to find the optimal number of clusters\n",
    "from sklearn.cluster import KMeans\n",
    "\n",
    "wsse = []\n",
    "for i in range(1, 11):\n",
    "    kmeans = KMeans(n_clusters = i,  random_state = 10)\n",
    "    kmeans.fit(X)\n",
    "    wsse.append(kmeans.inertia_)\n",
    "mp.plot(range(1, 11), wsse)\n",
    "#plt.scatter(range(1, 11),wsse)\n",
    "mp.title('The Elbow Method')\n",
    "mp.xlabel('Number of clusters')\n",
    "mp.ylabel('WSSE')\n",
    "mp.show()"
   ]
  },
  {
   "cell_type": "code",
   "execution_count": 15,
   "metadata": {},
   "outputs": [
    {
     "name": "stdout",
     "output_type": "stream",
     "text": [
      "[269981.28, 181363.59595959593, 106348.37306211118, 73679.78903948836, 44448.45544793371, 37271.8862365895, 30273.394312070042, 25022.48500453035, 21881.878507060967, 19669.71099830122]\n"
     ]
    }
   ],
   "source": [
    "print(wsse)"
   ]
  },
  {
   "cell_type": "markdown",
   "metadata": {},
   "source": [
    "SO WE CAN SEE THAT AFTER K VALUE=5 THE WSSE STARTS DECREASING GRADUALLY INSTEAD OF DRASTICALLY SO THE NO OF CLUSTER WILL BE EQUAL TO 5 "
   ]
  },
  {
   "cell_type": "markdown",
   "metadata": {},
   "source": [
    "# Silhouette Score Method"
   ]
  },
  {
   "cell_type": "code",
   "execution_count": 16,
   "metadata": {},
   "outputs": [],
   "source": [
    "from sklearn.metrics import silhouette_score # IT IS ANOTHER METHOD TO FIND THE VALUE OF K"
   ]
  },
  {
   "cell_type": "code",
   "execution_count": 17,
   "metadata": {},
   "outputs": [],
   "source": [
    "k_values = range(2, 11)\n",
    "silhouette_scores = []\n",
    "for i in k_values:\n",
    "    kmeans = KMeans(n_clusters=i, random_state=10)\n",
    "    s= kmeans.fit_predict(X)\n",
    "    score = silhouette_score(X,s)\n",
    "    silhouette_scores.append(score)"
   ]
  },
  {
   "cell_type": "code",
   "execution_count": 18,
   "metadata": {},
   "outputs": [],
   "source": [
    "k_index = np.argmax(silhouette_scores)"
   ]
  },
  {
   "cell_type": "code",
   "execution_count": 19,
   "metadata": {},
   "outputs": [
    {
     "data": {
      "text/plain": [
       "5"
      ]
     },
     "execution_count": 19,
     "metadata": {},
     "output_type": "execute_result"
    }
   ],
   "source": [
    "k = k_values[k_index]    # THESE IS THE NO OF CLUSTER \n",
    "k"
   ]
  },
  {
   "cell_type": "markdown",
   "metadata": {},
   "source": [
    "# So the optimum value of k is 5 in Both the Case"
   ]
  },
  {
   "cell_type": "code",
   "execution_count": 20,
   "metadata": {},
   "outputs": [],
   "source": [
    "# FITTING K-MEANS TO THE DATASET\n",
    "kmeans=KMeans(n_clusters=5,random_state=10) #training\n",
    "Y_pred=kmeans.fit_predict(X)  # predicting\n",
    "\n",
    "    \n"
   ]
  },
  {
   "cell_type": "code",
   "execution_count": 21,
   "metadata": {},
   "outputs": [
    {
     "data": {
      "text/plain": [
       "array([3, 0, 3, 0, 3, 0, 3, 0, 3, 0, 3, 0, 3, 0, 3, 0, 3, 0, 3, 0, 3, 0,\n",
       "       3, 0, 3, 0, 3, 0, 3, 0, 3, 0, 3, 0, 3, 0, 3, 0, 3, 0, 3, 0, 3, 1,\n",
       "       3, 0, 1, 1, 1, 1, 1, 1, 1, 1, 1, 1, 1, 1, 1, 1, 1, 1, 1, 1, 1, 1,\n",
       "       1, 1, 1, 1, 1, 1, 1, 1, 1, 1, 1, 1, 1, 1, 1, 1, 1, 1, 1, 1, 1, 1,\n",
       "       1, 1, 1, 1, 1, 1, 1, 1, 1, 1, 1, 1, 1, 1, 1, 1, 1, 1, 1, 1, 1, 1,\n",
       "       1, 1, 1, 1, 1, 1, 1, 1, 1, 1, 1, 1, 1, 2, 4, 2, 1, 2, 4, 2, 4, 2,\n",
       "       1, 2, 4, 2, 4, 2, 4, 2, 4, 2, 1, 2, 4, 2, 4, 2, 4, 2, 4, 2, 4, 2,\n",
       "       4, 2, 4, 2, 4, 2, 4, 2, 4, 2, 4, 2, 4, 2, 4, 2, 4, 2, 4, 2, 4, 2,\n",
       "       4, 2, 4, 2, 4, 2, 4, 2, 4, 2, 4, 2, 4, 2, 4, 2, 4, 2, 4, 2, 4, 2,\n",
       "       4, 2])"
      ]
     },
     "execution_count": 21,
     "metadata": {},
     "output_type": "execute_result"
    }
   ],
   "source": [
    "Y_pred"
   ]
  },
  {
   "cell_type": "code",
   "execution_count": 22,
   "metadata": {},
   "outputs": [
    {
     "data": {
      "text/plain": [
       "44448.45544793371"
      ]
     },
     "execution_count": 22,
     "metadata": {},
     "output_type": "execute_result"
    }
   ],
   "source": [
    "kmeans.inertia_\n",
    "\n"
   ]
  },
  {
   "cell_type": "code",
   "execution_count": 23,
   "metadata": {},
   "outputs": [
    {
     "data": {
      "text/plain": [
       "5"
      ]
     },
     "execution_count": 23,
     "metadata": {},
     "output_type": "execute_result"
    }
   ],
   "source": [
    "kmeans.n_iter_"
   ]
  },
  {
   "cell_type": "code",
   "execution_count": 24,
   "metadata": {},
   "outputs": [
    {
     "data": {
      "text/html": [
       "<div>\n",
       "<style scoped>\n",
       "    .dataframe tbody tr th:only-of-type {\n",
       "        vertical-align: middle;\n",
       "    }\n",
       "\n",
       "    .dataframe tbody tr th {\n",
       "        vertical-align: top;\n",
       "    }\n",
       "\n",
       "    .dataframe thead th {\n",
       "        text-align: right;\n",
       "    }\n",
       "</style>\n",
       "<table border=\"1\" class=\"dataframe\">\n",
       "  <thead>\n",
       "    <tr style=\"text-align: right;\">\n",
       "      <th></th>\n",
       "      <th>Gender</th>\n",
       "      <th>Age</th>\n",
       "      <th>Annual Income (k$)</th>\n",
       "      <th>Spending Score (1-100)</th>\n",
       "      <th>Clusters</th>\n",
       "    </tr>\n",
       "    <tr>\n",
       "      <th>CustomerID</th>\n",
       "      <th></th>\n",
       "      <th></th>\n",
       "      <th></th>\n",
       "      <th></th>\n",
       "      <th></th>\n",
       "    </tr>\n",
       "  </thead>\n",
       "  <tbody>\n",
       "    <tr>\n",
       "      <th>1</th>\n",
       "      <td>Male</td>\n",
       "      <td>19</td>\n",
       "      <td>15</td>\n",
       "      <td>39</td>\n",
       "      <td>3</td>\n",
       "    </tr>\n",
       "    <tr>\n",
       "      <th>2</th>\n",
       "      <td>Male</td>\n",
       "      <td>21</td>\n",
       "      <td>15</td>\n",
       "      <td>81</td>\n",
       "      <td>0</td>\n",
       "    </tr>\n",
       "    <tr>\n",
       "      <th>3</th>\n",
       "      <td>Female</td>\n",
       "      <td>20</td>\n",
       "      <td>16</td>\n",
       "      <td>6</td>\n",
       "      <td>3</td>\n",
       "    </tr>\n",
       "    <tr>\n",
       "      <th>4</th>\n",
       "      <td>Female</td>\n",
       "      <td>23</td>\n",
       "      <td>16</td>\n",
       "      <td>77</td>\n",
       "      <td>0</td>\n",
       "    </tr>\n",
       "    <tr>\n",
       "      <th>5</th>\n",
       "      <td>Female</td>\n",
       "      <td>31</td>\n",
       "      <td>17</td>\n",
       "      <td>40</td>\n",
       "      <td>3</td>\n",
       "    </tr>\n",
       "  </tbody>\n",
       "</table>\n",
       "</div>"
      ],
      "text/plain": [
       "            Gender  Age  Annual Income (k$)  Spending Score (1-100)  Clusters\n",
       "CustomerID                                                                   \n",
       "1             Male   19                  15                      39         3\n",
       "2             Male   21                  15                      81         0\n",
       "3           Female   20                  16                       6         3\n",
       "4           Female   23                  16                      77         0\n",
       "5           Female   31                  17                      40         3"
      ]
     },
     "execution_count": 24,
     "metadata": {},
     "output_type": "execute_result"
    }
   ],
   "source": [
    "m['Clusters']=Y_pred\n",
    "m.head()"
   ]
  },
  {
   "cell_type": "code",
   "execution_count": 25,
   "metadata": {},
   "outputs": [
    {
     "data": {
      "image/png": "[encoded data removed]",
      "text/plain": [
       "<Figure size 408.75x360 with 1 Axes>"
      ]
     },
     "metadata": {
      "needs_background": "light"
     },
     "output_type": "display_data"
    }
   ],
   "source": [
    "sb.lmplot(data=m, x='Annual Income (k$)', y='Spending Score (1-100)',\n",
    "           fit_reg=False, # No regression line\n",
    "           hue='Clusters',palette=\"Set1\")  \n",
    "#mp.scatter(kmeans.cluster_centers_[:, 0], kmeans.cluster_centers_[:, 1], \n",
    " #  s = 300, c = 'black')\n",
    "mp.show()"
   ]
  },
  {
   "cell_type": "markdown",
   "metadata": {},
   "source": [
    "SO WITH THE HELP OF THIS GRAPH WE CAN DIVIDE OUR CUSTOMER INTO CARELESS,STANDARD,TARGET,SENSIBLE,CAREFUL CATEGORY."
   ]
  },
  {
   "cell_type": "code",
   "execution_count": 26,
   "metadata": {},
   "outputs": [],
   "source": [
    "m['Clusters']=m.Clusters.replace({0:'Careless',1:'Standard',2:'Target',3:'Sensible',4:'Careful'})"
   ]
  },
  {
   "cell_type": "code",
   "execution_count": 27,
   "metadata": {},
   "outputs": [
    {
     "data": {
      "text/html": [
       "<div>\n",
       "<style scoped>\n",
       "    .dataframe tbody tr th:only-of-type {\n",
       "        vertical-align: middle;\n",
       "    }\n",
       "\n",
       "    .dataframe tbody tr th {\n",
       "        vertical-align: top;\n",
       "    }\n",
       "\n",
       "    .dataframe thead th {\n",
       "        text-align: right;\n",
       "    }\n",
       "</style>\n",
       "<table border=\"1\" class=\"dataframe\">\n",
       "  <thead>\n",
       "    <tr style=\"text-align: right;\">\n",
       "      <th></th>\n",
       "      <th>Gender</th>\n",
       "      <th>Age</th>\n",
       "      <th>Annual Income (k$)</th>\n",
       "      <th>Spending Score (1-100)</th>\n",
       "      <th>Clusters</th>\n",
       "    </tr>\n",
       "    <tr>\n",
       "      <th>CustomerID</th>\n",
       "      <th></th>\n",
       "      <th></th>\n",
       "      <th></th>\n",
       "      <th></th>\n",
       "      <th></th>\n",
       "    </tr>\n",
       "  </thead>\n",
       "  <tbody>\n",
       "    <tr>\n",
       "      <th>1</th>\n",
       "      <td>Male</td>\n",
       "      <td>19</td>\n",
       "      <td>15</td>\n",
       "      <td>39</td>\n",
       "      <td>Sensible</td>\n",
       "    </tr>\n",
       "    <tr>\n",
       "      <th>2</th>\n",
       "      <td>Male</td>\n",
       "      <td>21</td>\n",
       "      <td>15</td>\n",
       "      <td>81</td>\n",
       "      <td>Careless</td>\n",
       "    </tr>\n",
       "    <tr>\n",
       "      <th>3</th>\n",
       "      <td>Female</td>\n",
       "      <td>20</td>\n",
       "      <td>16</td>\n",
       "      <td>6</td>\n",
       "      <td>Sensible</td>\n",
       "    </tr>\n",
       "    <tr>\n",
       "      <th>4</th>\n",
       "      <td>Female</td>\n",
       "      <td>23</td>\n",
       "      <td>16</td>\n",
       "      <td>77</td>\n",
       "      <td>Careless</td>\n",
       "    </tr>\n",
       "    <tr>\n",
       "      <th>5</th>\n",
       "      <td>Female</td>\n",
       "      <td>31</td>\n",
       "      <td>17</td>\n",
       "      <td>40</td>\n",
       "      <td>Sensible</td>\n",
       "    </tr>\n",
       "  </tbody>\n",
       "</table>\n",
       "</div>"
      ],
      "text/plain": [
       "            Gender  Age  Annual Income (k$)  Spending Score (1-100)  Clusters\n",
       "CustomerID                                                                   \n",
       "1             Male   19                  15                      39  Sensible\n",
       "2             Male   21                  15                      81  Careless\n",
       "3           Female   20                  16                       6  Sensible\n",
       "4           Female   23                  16                      77  Careless\n",
       "5           Female   31                  17                      40  Sensible"
      ]
     },
     "execution_count": 27,
     "metadata": {},
     "output_type": "execute_result"
    }
   ],
   "source": [
    "m.head()"
   ]
  },
  {
   "cell_type": "code",
   "execution_count": 28,
   "metadata": {},
   "outputs": [],
   "source": [
    "new_m=m[m['Clusters']=='Target']  # HERE WE ARE SEPERATING THE TARGET CUSTOMER"
   ]
  },
  {
   "cell_type": "code",
   "execution_count": 29,
   "metadata": {},
   "outputs": [
    {
     "data": {
      "text/html": [
       "<div>\n",
       "<style scoped>\n",
       "    .dataframe tbody tr th:only-of-type {\n",
       "        vertical-align: middle;\n",
       "    }\n",
       "\n",
       "    .dataframe tbody tr th {\n",
       "        vertical-align: top;\n",
       "    }\n",
       "\n",
       "    .dataframe thead th {\n",
       "        text-align: right;\n",
       "    }\n",
       "</style>\n",
       "<table border=\"1\" class=\"dataframe\">\n",
       "  <thead>\n",
       "    <tr style=\"text-align: right;\">\n",
       "      <th></th>\n",
       "      <th>Gender</th>\n",
       "      <th>Age</th>\n",
       "      <th>Annual Income (k$)</th>\n",
       "      <th>Spending Score (1-100)</th>\n",
       "      <th>Clusters</th>\n",
       "    </tr>\n",
       "    <tr>\n",
       "      <th>CustomerID</th>\n",
       "      <th></th>\n",
       "      <th></th>\n",
       "      <th></th>\n",
       "      <th></th>\n",
       "      <th></th>\n",
       "    </tr>\n",
       "  </thead>\n",
       "  <tbody>\n",
       "    <tr>\n",
       "      <th>124</th>\n",
       "      <td>Male</td>\n",
       "      <td>39</td>\n",
       "      <td>69</td>\n",
       "      <td>91</td>\n",
       "      <td>Target</td>\n",
       "    </tr>\n",
       "    <tr>\n",
       "      <th>126</th>\n",
       "      <td>Female</td>\n",
       "      <td>31</td>\n",
       "      <td>70</td>\n",
       "      <td>77</td>\n",
       "      <td>Target</td>\n",
       "    </tr>\n",
       "    <tr>\n",
       "      <th>128</th>\n",
       "      <td>Male</td>\n",
       "      <td>40</td>\n",
       "      <td>71</td>\n",
       "      <td>95</td>\n",
       "      <td>Target</td>\n",
       "    </tr>\n",
       "    <tr>\n",
       "      <th>130</th>\n",
       "      <td>Male</td>\n",
       "      <td>38</td>\n",
       "      <td>71</td>\n",
       "      <td>75</td>\n",
       "      <td>Target</td>\n",
       "    </tr>\n",
       "    <tr>\n",
       "      <th>132</th>\n",
       "      <td>Male</td>\n",
       "      <td>39</td>\n",
       "      <td>71</td>\n",
       "      <td>75</td>\n",
       "      <td>Target</td>\n",
       "    </tr>\n",
       "    <tr>\n",
       "      <th>134</th>\n",
       "      <td>Female</td>\n",
       "      <td>31</td>\n",
       "      <td>72</td>\n",
       "      <td>71</td>\n",
       "      <td>Target</td>\n",
       "    </tr>\n",
       "    <tr>\n",
       "      <th>136</th>\n",
       "      <td>Female</td>\n",
       "      <td>29</td>\n",
       "      <td>73</td>\n",
       "      <td>88</td>\n",
       "      <td>Target</td>\n",
       "    </tr>\n",
       "    <tr>\n",
       "      <th>138</th>\n",
       "      <td>Male</td>\n",
       "      <td>32</td>\n",
       "      <td>73</td>\n",
       "      <td>73</td>\n",
       "      <td>Target</td>\n",
       "    </tr>\n",
       "    <tr>\n",
       "      <th>140</th>\n",
       "      <td>Female</td>\n",
       "      <td>35</td>\n",
       "      <td>74</td>\n",
       "      <td>72</td>\n",
       "      <td>Target</td>\n",
       "    </tr>\n",
       "    <tr>\n",
       "      <th>142</th>\n",
       "      <td>Male</td>\n",
       "      <td>32</td>\n",
       "      <td>75</td>\n",
       "      <td>93</td>\n",
       "      <td>Target</td>\n",
       "    </tr>\n",
       "    <tr>\n",
       "      <th>144</th>\n",
       "      <td>Female</td>\n",
       "      <td>32</td>\n",
       "      <td>76</td>\n",
       "      <td>87</td>\n",
       "      <td>Target</td>\n",
       "    </tr>\n",
       "    <tr>\n",
       "      <th>146</th>\n",
       "      <td>Male</td>\n",
       "      <td>28</td>\n",
       "      <td>77</td>\n",
       "      <td>97</td>\n",
       "      <td>Target</td>\n",
       "    </tr>\n",
       "    <tr>\n",
       "      <th>148</th>\n",
       "      <td>Female</td>\n",
       "      <td>32</td>\n",
       "      <td>77</td>\n",
       "      <td>74</td>\n",
       "      <td>Target</td>\n",
       "    </tr>\n",
       "    <tr>\n",
       "      <th>150</th>\n",
       "      <td>Male</td>\n",
       "      <td>34</td>\n",
       "      <td>78</td>\n",
       "      <td>90</td>\n",
       "      <td>Target</td>\n",
       "    </tr>\n",
       "    <tr>\n",
       "      <th>152</th>\n",
       "      <td>Male</td>\n",
       "      <td>39</td>\n",
       "      <td>78</td>\n",
       "      <td>88</td>\n",
       "      <td>Target</td>\n",
       "    </tr>\n",
       "    <tr>\n",
       "      <th>154</th>\n",
       "      <td>Female</td>\n",
       "      <td>38</td>\n",
       "      <td>78</td>\n",
       "      <td>76</td>\n",
       "      <td>Target</td>\n",
       "    </tr>\n",
       "    <tr>\n",
       "      <th>156</th>\n",
       "      <td>Female</td>\n",
       "      <td>27</td>\n",
       "      <td>78</td>\n",
       "      <td>89</td>\n",
       "      <td>Target</td>\n",
       "    </tr>\n",
       "    <tr>\n",
       "      <th>158</th>\n",
       "      <td>Female</td>\n",
       "      <td>30</td>\n",
       "      <td>78</td>\n",
       "      <td>78</td>\n",
       "      <td>Target</td>\n",
       "    </tr>\n",
       "    <tr>\n",
       "      <th>160</th>\n",
       "      <td>Female</td>\n",
       "      <td>30</td>\n",
       "      <td>78</td>\n",
       "      <td>73</td>\n",
       "      <td>Target</td>\n",
       "    </tr>\n",
       "    <tr>\n",
       "      <th>162</th>\n",
       "      <td>Female</td>\n",
       "      <td>29</td>\n",
       "      <td>79</td>\n",
       "      <td>83</td>\n",
       "      <td>Target</td>\n",
       "    </tr>\n",
       "    <tr>\n",
       "      <th>164</th>\n",
       "      <td>Female</td>\n",
       "      <td>31</td>\n",
       "      <td>81</td>\n",
       "      <td>93</td>\n",
       "      <td>Target</td>\n",
       "    </tr>\n",
       "    <tr>\n",
       "      <th>166</th>\n",
       "      <td>Female</td>\n",
       "      <td>36</td>\n",
       "      <td>85</td>\n",
       "      <td>75</td>\n",
       "      <td>Target</td>\n",
       "    </tr>\n",
       "    <tr>\n",
       "      <th>168</th>\n",
       "      <td>Female</td>\n",
       "      <td>33</td>\n",
       "      <td>86</td>\n",
       "      <td>95</td>\n",
       "      <td>Target</td>\n",
       "    </tr>\n",
       "    <tr>\n",
       "      <th>170</th>\n",
       "      <td>Male</td>\n",
       "      <td>32</td>\n",
       "      <td>87</td>\n",
       "      <td>63</td>\n",
       "      <td>Target</td>\n",
       "    </tr>\n",
       "    <tr>\n",
       "      <th>172</th>\n",
       "      <td>Male</td>\n",
       "      <td>28</td>\n",
       "      <td>87</td>\n",
       "      <td>75</td>\n",
       "      <td>Target</td>\n",
       "    </tr>\n",
       "    <tr>\n",
       "      <th>174</th>\n",
       "      <td>Male</td>\n",
       "      <td>36</td>\n",
       "      <td>87</td>\n",
       "      <td>92</td>\n",
       "      <td>Target</td>\n",
       "    </tr>\n",
       "    <tr>\n",
       "      <th>176</th>\n",
       "      <td>Female</td>\n",
       "      <td>30</td>\n",
       "      <td>88</td>\n",
       "      <td>86</td>\n",
       "      <td>Target</td>\n",
       "    </tr>\n",
       "    <tr>\n",
       "      <th>178</th>\n",
       "      <td>Male</td>\n",
       "      <td>27</td>\n",
       "      <td>88</td>\n",
       "      <td>69</td>\n",
       "      <td>Target</td>\n",
       "    </tr>\n",
       "    <tr>\n",
       "      <th>180</th>\n",
       "      <td>Male</td>\n",
       "      <td>35</td>\n",
       "      <td>93</td>\n",
       "      <td>90</td>\n",
       "      <td>Target</td>\n",
       "    </tr>\n",
       "    <tr>\n",
       "      <th>182</th>\n",
       "      <td>Female</td>\n",
       "      <td>32</td>\n",
       "      <td>97</td>\n",
       "      <td>86</td>\n",
       "      <td>Target</td>\n",
       "    </tr>\n",
       "    <tr>\n",
       "      <th>184</th>\n",
       "      <td>Female</td>\n",
       "      <td>29</td>\n",
       "      <td>98</td>\n",
       "      <td>88</td>\n",
       "      <td>Target</td>\n",
       "    </tr>\n",
       "    <tr>\n",
       "      <th>186</th>\n",
       "      <td>Male</td>\n",
       "      <td>30</td>\n",
       "      <td>99</td>\n",
       "      <td>97</td>\n",
       "      <td>Target</td>\n",
       "    </tr>\n",
       "    <tr>\n",
       "      <th>188</th>\n",
       "      <td>Male</td>\n",
       "      <td>28</td>\n",
       "      <td>101</td>\n",
       "      <td>68</td>\n",
       "      <td>Target</td>\n",
       "    </tr>\n",
       "    <tr>\n",
       "      <th>190</th>\n",
       "      <td>Female</td>\n",
       "      <td>36</td>\n",
       "      <td>103</td>\n",
       "      <td>85</td>\n",
       "      <td>Target</td>\n",
       "    </tr>\n",
       "    <tr>\n",
       "      <th>192</th>\n",
       "      <td>Female</td>\n",
       "      <td>32</td>\n",
       "      <td>103</td>\n",
       "      <td>69</td>\n",
       "      <td>Target</td>\n",
       "    </tr>\n",
       "    <tr>\n",
       "      <th>194</th>\n",
       "      <td>Female</td>\n",
       "      <td>38</td>\n",
       "      <td>113</td>\n",
       "      <td>91</td>\n",
       "      <td>Target</td>\n",
       "    </tr>\n",
       "    <tr>\n",
       "      <th>196</th>\n",
       "      <td>Female</td>\n",
       "      <td>35</td>\n",
       "      <td>120</td>\n",
       "      <td>79</td>\n",
       "      <td>Target</td>\n",
       "    </tr>\n",
       "    <tr>\n",
       "      <th>198</th>\n",
       "      <td>Male</td>\n",
       "      <td>32</td>\n",
       "      <td>126</td>\n",
       "      <td>74</td>\n",
       "      <td>Target</td>\n",
       "    </tr>\n",
       "    <tr>\n",
       "      <th>200</th>\n",
       "      <td>Male</td>\n",
       "      <td>30</td>\n",
       "      <td>137</td>\n",
       "      <td>83</td>\n",
       "      <td>Target</td>\n",
       "    </tr>\n",
       "  </tbody>\n",
       "</table>\n",
       "</div>"
      ],
      "text/plain": [
       "            Gender  Age  Annual Income (k$)  Spending Score (1-100) Clusters\n",
       "CustomerID                                                                  \n",
       "124           Male   39                  69                      91   Target\n",
       "126         Female   31                  70                      77   Target\n",
       "128           Male   40                  71                      95   Target\n",
       "130           Male   38                  71                      75   Target\n",
       "132           Male   39                  71                      75   Target\n",
       "134         Female   31                  72                      71   Target\n",
       "136         Female   29                  73                      88   Target\n",
       "138           Male   32                  73                      73   Target\n",
       "140         Female   35                  74                      72   Target\n",
       "142           Male   32                  75                      93   Target\n",
       "144         Female   32                  76                      87   Target\n",
       "146           Male   28                  77                      97   Target\n",
       "148         Female   32                  77                      74   Target\n",
       "150           Male   34                  78                      90   Target\n",
       "152           Male   39                  78                      88   Target\n",
       "154         Female   38                  78                      76   Target\n",
       "156         Female   27                  78                      89   Target\n",
       "158         Female   30                  78                      78   Target\n",
       "160         Female   30                  78                      73   Target\n",
       "162         Female   29                  79                      83   Target\n",
       "164         Female   31                  81                      93   Target\n",
       "166         Female   36                  85                      75   Target\n",
       "168         Female   33                  86                      95   Target\n",
       "170           Male   32                  87                      63   Target\n",
       "172           Male   28                  87                      75   Target\n",
       "174           Male   36                  87                      92   Target\n",
       "176         Female   30                  88                      86   Target\n",
       "178           Male   27                  88                      69   Target\n",
       "180           Male   35                  93                      90   Target\n",
       "182         Female   32                  97                      86   Target\n",
       "184         Female   29                  98                      88   Target\n",
       "186           Male   30                  99                      97   Target\n",
       "188           Male   28                 101                      68   Target\n",
       "190         Female   36                 103                      85   Target\n",
       "192         Female   32                 103                      69   Target\n",
       "194         Female   38                 113                      91   Target\n",
       "196         Female   35                 120                      79   Target\n",
       "198           Male   32                 126                      74   Target\n",
       "200           Male   30                 137                      83   Target"
      ]
     },
     "execution_count": 29,
     "metadata": {},
     "output_type": "execute_result"
    }
   ],
   "source": [
    "new_m"
   ]
  },
  {
   "cell_type": "code",
   "execution_count": 30,
   "metadata": {},
   "outputs": [
    {
     "data": {
      "text/plain": [
       "(39, 5)"
      ]
     },
     "execution_count": 30,
     "metadata": {},
     "output_type": "execute_result"
    }
   ],
   "source": [
    "new_m.shape"
   ]
  },
  {
   "cell_type": "markdown",
   "metadata": {},
   "source": [
    "# SO WITH THE HELP OF CLUSTERING ALGORITHM WE HAVE FINALLY IDENTIFIED OUR TARGET CUSTOMERS."
   ]
  }
 ],
 "metadata": {
  "kernelspec": {
   "display_name": "Python 3",
   "language": "python",
   "name": "python3"
  },
  "language_info": {
   "codemirror_mode": {
    "name": "ipython",
    "version": 3
   },
   "file_extension": ".py",
   "mimetype": "text/x-python",
   "name": "python",
   "nbconvert_exporter": "python",
   "pygments_lexer": "ipython3",
   "version": "3.7.6"
  }
 },
 "nbformat": 4,
 "nbformat_minor": 4
}
